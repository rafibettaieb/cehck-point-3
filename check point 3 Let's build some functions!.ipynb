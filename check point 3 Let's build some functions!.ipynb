{
 "cells": [
  {
   "cell_type": "markdown",
   "id": "befe3794",
   "metadata": {},
   "source": [
    "question N1 :"
   ]
  },
  {
   "cell_type": "code",
   "execution_count": 1,
   "id": "73a668c9",
   "metadata": {},
   "outputs": [
    {
     "name": "stdout",
     "output_type": "stream",
     "text": [
      "x=14*\n"
     ]
    },
    {
     "ename": "ValueError",
     "evalue": "invalid literal for int() with base 10: '14*'",
     "output_type": "error",
     "traceback": [
      "\u001b[1;31m---------------------------------------------------------------------------\u001b[0m",
      "\u001b[1;31mValueError\u001b[0m                                Traceback (most recent call last)",
      "\u001b[1;32m<ipython-input-1-cd7a56e0d043>\u001b[0m in \u001b[0;36m<module>\u001b[1;34m\u001b[0m\n\u001b[1;32m----> 1\u001b[1;33m \u001b[0mx\u001b[0m\u001b[1;33m=\u001b[0m\u001b[0mint\u001b[0m\u001b[1;33m(\u001b[0m\u001b[0minput\u001b[0m\u001b[1;33m(\u001b[0m\u001b[1;34m\"x=\"\u001b[0m\u001b[1;33m)\u001b[0m\u001b[1;33m)\u001b[0m\u001b[1;33m\u001b[0m\u001b[1;33m\u001b[0m\u001b[0m\n\u001b[0m\u001b[0;32m      2\u001b[0m \u001b[0my\u001b[0m\u001b[1;33m=\u001b[0m\u001b[0mint\u001b[0m\u001b[1;33m(\u001b[0m\u001b[0minput\u001b[0m\u001b[1;33m(\u001b[0m\u001b[1;34m\"y=\"\u001b[0m\u001b[1;33m)\u001b[0m\u001b[1;33m)\u001b[0m\u001b[1;33m\u001b[0m\u001b[1;33m\u001b[0m\u001b[0m\n\u001b[0;32m      3\u001b[0m \u001b[0mz\u001b[0m\u001b[1;33m=\u001b[0m\u001b[0mint\u001b[0m\u001b[1;33m(\u001b[0m\u001b[0minput\u001b[0m\u001b[1;33m(\u001b[0m\u001b[1;34m\"z=\"\u001b[0m\u001b[1;33m)\u001b[0m\u001b[1;33m)\u001b[0m\u001b[1;33m\u001b[0m\u001b[1;33m\u001b[0m\u001b[0m\n\u001b[0;32m      4\u001b[0m \u001b[1;32mdef\u001b[0m \u001b[0mmax_of_two\u001b[0m\u001b[1;33m(\u001b[0m \u001b[0mx\u001b[0m\u001b[1;33m,\u001b[0m \u001b[0my\u001b[0m \u001b[1;33m)\u001b[0m\u001b[1;33m:\u001b[0m\u001b[1;33m\u001b[0m\u001b[1;33m\u001b[0m\u001b[0m\n\u001b[0;32m      5\u001b[0m     \u001b[1;32mif\u001b[0m \u001b[0mx\u001b[0m \u001b[1;33m>\u001b[0m \u001b[0my\u001b[0m\u001b[1;33m:\u001b[0m\u001b[1;33m\u001b[0m\u001b[1;33m\u001b[0m\u001b[0m\n",
      "\u001b[1;31mValueError\u001b[0m: invalid literal for int() with base 10: '14*'"
     ]
    }
   ],
   "source": [
    "x=int(input(\"x=\"))\n",
    "y=int(input(\"y=\"))\n",
    "z=int(input(\"z=\"))\n",
    "def max_of_two( x, y ):\n",
    "    if x > y:\n",
    "        return x\n",
    "    else:\n",
    "        return y\n",
    "def max_of_three( x, y, z ):\n",
    "    return max_of_two( x, max_of_two( y, z ) )\n",
    "print(\"max of three numbers is\",max_of_three(x,y,z))"
   ]
  },
  {
   "cell_type": "markdown",
   "id": "cd1be43c",
   "metadata": {},
   "source": [
    "question N2 :"
   ]
  },
  {
   "cell_type": "code",
   "execution_count": null,
   "id": "f30af24b",
   "metadata": {},
   "outputs": [],
   "source": [
    "x=int(input(\"x=\"))\n",
    "y=int(input(\"y=\"))\n",
    "def calculation(x,y):\n",
    "    a=x+y\n",
    "    b=x-y\n",
    "    print(a,\",\",b)\n",
    "calculation(x,y)"
   ]
  },
  {
   "cell_type": "markdown",
   "id": "ee8c1312",
   "metadata": {},
   "source": [
    "question N3:"
   ]
  },
  {
   "cell_type": "code",
   "execution_count": null,
   "id": "fdc2ea68",
   "metadata": {},
   "outputs": [],
   "source": [
    "liste=[]\n",
    "n=int(input(\"number of items in the liste\"))\n",
    "for i in range (n):\n",
    "    item=int(input())\n",
    "    liste.append(item)\n",
    "print(liste)    \n",
    "    \n",
    "def sum1(liste):\n",
    "    sum2=0\n",
    "    for i in liste:\n",
    "        sum2 += i\n",
    "    return sum2\n",
    "\n",
    "\n",
    "def mult1(liste):\n",
    "    mult2=1\n",
    "    for i in liste:\n",
    "        mult2 *= i\n",
    "    return mult2\n",
    "\n",
    "\n",
    "liste1=[]\n",
    "liste2=[]\n",
    "for x in range(len(liste)):\n",
    "    if x %2 == 0:\n",
    "        liste1.append(liste[x])\n",
    "    else :\n",
    "        liste2.append(liste[x])\n",
    "print(\"liste1=\" ,liste1)\n",
    "print(\"liste2=\",liste2)\n",
    "print(sum1(liste1))\n",
    "print(mult1(liste2))"
   ]
  },
  {
   "cell_type": "markdown",
   "id": "df65ca7f",
   "metadata": {},
   "source": [
    "question N4 :"
   ]
  },
  {
   "cell_type": "code",
   "execution_count": null,
   "id": "5f5b38ff",
   "metadata": {},
   "outputs": [],
   "source": [
    "items=[n for n in input().split('-')]\n",
    "items.sort()\n",
    "print('-'.join(items))"
   ]
  },
  {
   "cell_type": "markdown",
   "id": "e60fb804",
   "metadata": {},
   "source": [
    "question N5:"
   ]
  },
  {
   "cell_type": "code",
   "execution_count": null,
   "id": "6a7b5428",
   "metadata": {},
   "outputs": [],
   "source": [
    "from math import*\n",
    "liste=[n for n in input(\"enter a spreated numbers by comma\").split(',')]\n",
    "liste2 = []\n",
    "for D in liste:\n",
    "        D=int(D)\n",
    "def function (C,H,D):\n",
    "    for D in liste:\n",
    "        D=int(D)\n",
    "        Q=sqrt((2*C*D)/H)\n",
    "        liste2.append(round(Q))\n",
    "    return liste2\n",
    "function(50,30,D)\n",
    "print(','.join(liste2))"
   ]
  },
  {
   "cell_type": "code",
   "execution_count": 4,
   "id": "1c9d749a",
   "metadata": {},
   "outputs": [
    {
     "name": "stdout",
     "output_type": "stream",
     "text": [
      "enter a spreated numbers by comma100,150\n"
     ]
    },
    {
     "data": {
      "text/plain": [
       "'18, 22'"
      ]
     },
     "execution_count": 4,
     "metadata": {},
     "output_type": "execute_result"
    }
   ],
   "source": [
    "from math import*\n",
    "liste=[n for n in input(\"enter a spreated numbers by comma\").split(',')]\n",
    "liste2 = []\n",
    "\n",
    "for D in liste:\n",
    "        D=int(D)\n",
    "def function (C,H,D):\n",
    "    ch=\"\"\n",
    "    for D in liste:\n",
    "        D=int(D)\n",
    "        Q=sqrt((2*C*D)/H)\n",
    "        ch=ch+\", \"+str(round(Q))\n",
    "        ch = ch[1:]\n",
    "    return ch\n",
    "function(50,30,D)"
   ]
  },
  {
   "cell_type": "code",
   "execution_count": null,
   "id": "18bef220",
   "metadata": {},
   "outputs": [],
   "source": []
  }
 ],
 "metadata": {
  "kernelspec": {
   "display_name": "Python 3",
   "language": "python",
   "name": "python3"
  },
  "language_info": {
   "codemirror_mode": {
    "name": "ipython",
    "version": 3
   },
   "file_extension": ".py",
   "mimetype": "text/x-python",
   "name": "python",
   "nbconvert_exporter": "python",
   "pygments_lexer": "ipython3",
   "version": "3.8.8"
  }
 },
 "nbformat": 4,
 "nbformat_minor": 5
}
